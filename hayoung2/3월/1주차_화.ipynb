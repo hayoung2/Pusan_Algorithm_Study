{
  "nbformat": 4,
  "nbformat_minor": 0,
  "metadata": {
    "colab": {
      "provenance": []
    },
    "kernelspec": {
      "name": "python3",
      "display_name": "Python 3"
    },
    "language_info": {
      "name": "python"
    }
  },
  "cells": [
    {
      "cell_type": "markdown",
      "source": [],
      "metadata": {
        "id": "Ho0MwNikG1yg"
      }
    },
    {
      "cell_type": "code",
      "source": [
        "#백준 적록색약 10026\n",
        "# https://www.acmicpc.net/problem/10026\n",
        "import sys\n",
        "sys.setrecursionlimit(100000) # 이거몰라서 30분 넘게 찾아봄 질문게시판\n",
        "\n",
        "n = int(input())\n",
        "arr = [list(input().strip()) for _ in range(n)]\n",
        "\n",
        "visited = [[0] * n for _ in range(n)]\n",
        "a1 = 0\n",
        "a2 = 0\n",
        "\n",
        "dx = [0, 0, -1, 1]\n",
        "dy = [-1, 1, 0, 0]\n",
        "\n",
        "def dfs(x, y, target, arr, visited, check):\n",
        "    visited[x][y] = 1\n",
        "    for i in range(4):\n",
        "        nx = x + dx[i]\n",
        "        ny = y + dy[i]\n",
        "        if check and 0 <= nx < n and 0 <= ny < n and visited[nx][ny] == 0 and target == arr[nx][ny]:\n",
        "            dfs(nx, ny, target, arr, visited, True)\n",
        "\n",
        "        if not check and 0 <= nx < n and 0 <= ny < n and visited[nx][ny] == 0:\n",
        "            if (target == 'R' or target == 'G') and (arr[nx][ny] == 'R' or arr[nx][ny] == 'G'):\n",
        "                visited[nx][ny] = 1\n",
        "                dfs(nx, ny, target, arr, visited, False)\n",
        "            elif target == arr[nx][ny]:\n",
        "                visited[nx][ny] = 1\n",
        "                dfs(nx, ny, target, arr, visited, False)\n",
        "\n",
        "for i in range(n):\n",
        "    for j in range(n):\n",
        "        if visited[i][j] == 0:\n",
        "            dfs(i, j, arr[i][j], arr, visited, True)\n",
        "            a1 += 1\n",
        "\n",
        "visited = [[0] * n for _ in range(n)]\n",
        "\n",
        "for i in range(n):\n",
        "    for j in range(n):\n",
        "        if visited[i][j] == 0:\n",
        "            if arr[i][j] == 'R' or arr[i][j] == 'G':\n",
        "                dfs(i, j, arr[i][j], arr, visited, False)\n",
        "            else:\n",
        "                dfs(i, j, arr[i][j], arr, visited, False)\n",
        "            a2 += 1\n",
        "\n",
        "print(a1, a2)\n"
      ],
      "metadata": {
        "colab": {
          "base_uri": "https://localhost:8080/"
        },
        "id": "jEoz6dmYG3Sp",
        "outputId": "77a61511-516b-4b77-d98c-3a67a84f6331"
      },
      "execution_count": null,
      "outputs": [
        {
          "output_type": "stream",
          "name": "stdout",
          "text": [
            "6\n",
            "RRBBRR\n",
            "BBRRBB\n",
            "RRBBRR\n",
            "BBRRBB\n",
            "RRBBRR\n",
            "BBRRBB\n",
            "18 18\n"
          ]
        }
      ]
    },
    {
      "cell_type": "code",
      "source": [
        "# 백준 토마토\n",
        "# https://www.acmicpc.net/problem/7576\n",
        "from collections import deque\n",
        "\n",
        "n, m = map(int, input().split())\n",
        "\n",
        "arr = []\n",
        "\n",
        "for i in range(m):\n",
        "    arr.append(list(map(int, input().split())))\n",
        "\n",
        "que = deque()\n",
        "\n",
        "for i in range(m):\n",
        "    for j in range(n):\n",
        "        if arr[i][j] == 1:\n",
        "            que.append([i, j])\n",
        "\n",
        "dx = [0, 0, -1, 1]\n",
        "dy = [-1, 1, 0, 0]\n",
        "answer = 0\n",
        "\n",
        "while que:\n",
        "    x, y = que.popleft()\n",
        "\n",
        "    for i in range(4):\n",
        "        nx = x + dx[i]\n",
        "        ny = y + dy[i]\n",
        "        if 0 <= nx < m and 0 <= ny < n and arr[nx][ny] == 0:\n",
        "            arr[nx][ny] = arr[x][y] + 1\n",
        "            answer = arr[nx][ny]\n",
        "            que.append([nx, ny])\n",
        "\n",
        "if any(0 in row for row in arr):\n",
        "    print(-1)\n",
        "else:\n",
        "    if answer == 0:\n",
        "        print(0)\n",
        "    else:\n",
        "        print(answer - 1)\n"
      ],
      "metadata": {
        "colab": {
          "base_uri": "https://localhost:8080/"
        },
        "id": "uu5eq5xjZfrp",
        "outputId": "51eff598-e3a4-4d33-83fd-e711f8b99bc9"
      },
      "execution_count": null,
      "outputs": [
        {
          "output_type": "stream",
          "name": "stdout",
          "text": [
            "3 3 \n",
            "1 0 0\n",
            "0 0 -1\n",
            "0 -1 0\n",
            "[[1, 2, 3], [2, 3, -1], [3, -1, 0]]\n",
            "-1\n"
          ]
        }
      ]
    },
    {
      "cell_type": "code",
      "source": [
        "# 백준 숨바꼭질\n",
        "#https://www.acmicpc.net/problem/1697\n",
        "\n",
        "from collections import deque\n",
        "d=[100000]* 100001\n",
        "n,m=map(int,input().split())\n",
        "que=deque()\n",
        "\n",
        "que.append(n)\n",
        "d[n]=0\n",
        "\n",
        "while que:\n",
        "  x=que.popleft()\n",
        "  if x==m:\n",
        "    break\n",
        "  if 0<=x<=100000:\n",
        "    d[2*x]=min(d[2*x],d[x]+1)\n",
        "    que.append(2*x)\n",
        "    d[x+1]=min(d[x+1],d[x]+1)\n",
        "    que.append(x+1)\n",
        "    d[x-1]=min(d[x-1],d[x]+1)\n",
        "    que.append(x-1)\n",
        "\n",
        "\n",
        "\n",
        "if n==0 and m==0:\n",
        "  print(0)\n",
        "else:\n",
        "  print(d[m])\n",
        "\n",
        "\n",
        "# 메모리초과라서 줄여야함 중복이 계속 되고 있었고, arr 는 모든 인덱스를 미리 넣어둠\n",
        "# dic으로 하면 더 좋음 defaultdic < dict(값 있는지 체크해야함)이 속도 빠름\n",
        "from collections import deque,defaultdict\n",
        "d = defaultdict(lambda: int(1e9))\n",
        "n,m=map(int,input().split())\n",
        "que=deque()\n",
        "\n",
        "que.append(n)\n",
        "d[n]=0\n",
        "\n",
        "while que:\n",
        "  x=que.popleft()\n",
        "  if x==m:\n",
        "    break\n",
        "  if 0<=x<=100000:\n",
        "    if 0<= 2*x <= 100000 and d[2*x]> d[x]+1 :\n",
        "      d[2*x]=d[x]+1\n",
        "      que.append(2*x)\n",
        "    if 0<= x+1 <= 100000 and d[x+1]> d[x]+1 :\n",
        "      d[x+1]=d[x]+1\n",
        "      que.append(x+1)\n",
        "    if 0<= x-1 <= 100000 and d[x-1]> d[x]+1 :\n",
        "      d[x-1]=d[x]+1\n",
        "      que.append(x-1)\n",
        "\n",
        "\n",
        "if n==0 and m==0:\n",
        "  print(0)\n",
        "else:\n",
        "  print(d[m])"
      ],
      "metadata": {
        "colab": {
          "base_uri": "https://localhost:8080/"
        },
        "id": "7Iho4sPUCdWr",
        "outputId": "949695f6-472c-4e89-e38b-590552399ecd"
      },
      "execution_count": 35,
      "outputs": [
        {
          "output_type": "stream",
          "name": "stdout",
          "text": [
            "6 8\n",
            "2\n"
          ]
        }
      ]
    },
    {
      "cell_type": "code",
      "source": [
        "#효율적인 해킹\n",
        "# https://www.acmicpc.net/problem/1325\n",
        "n,m=map(int,input().split())\n",
        "arr = [[] for _ in range(n+1)]\n",
        "for i in range(m):\n",
        "  a,b=map(int,input().split())\n",
        "  arr[b].append(a)\n",
        "\n",
        "print(arr)\n",
        "answer=[0]*(n+1)\n",
        "for i in range(1,n+1):\n",
        "\n",
        "  que=[i]\n",
        "  visited=[i]\n",
        "  print(que)\n",
        "  while que:\n",
        "    x=que.pop(0)\n",
        "    for j in arr[x]:\n",
        "\n",
        "      if j not in visited:\n",
        "        que.append(j)\n",
        "        visited.append(j)\n",
        "  answer[i]=len(visited)-1\n",
        "tmp=max(answer)\n",
        "for i in range(1,n+1):\n",
        "  if tmp==answer[i]:\n",
        "    print(i,end=\" \")\n",
        "\n",
        "## 정답코드 visited 를 나는 not in 다 찾아보는 방식 그냥 index가 아니고 그래서 그런듯\n",
        "\n",
        "from collections import deque\n",
        "import sys\n",
        "input = sys.stdin.readline\n",
        "\n",
        "def bfs(start):\n",
        "    q= deque()\n",
        "    q.append(start)\n",
        "    visited[start]=1\n",
        "\n",
        "    while q:\n",
        "        start = q.popleft()\n",
        "        for i in rel[start]:\n",
        "            if visited[i]==0:\n",
        "                visited[i]=1\n",
        "                q.append(i)\n",
        "\n",
        "N, M = map(int, input().split())\n",
        "\n",
        "rel = [[0] for i in range(N+1)]\n",
        "\n",
        "for i in range(M):\n",
        "    a, b = map(int, input().split())\n",
        "    rel[b].append(a)\n",
        "\n",
        "cnt = []\n",
        "for i in range(1,N+1):\n",
        "    visited = [0 for _ in range(N+1)]\n",
        "    bfs(i)\n",
        "\n",
        "    cnt.append(visited.count(1))\n",
        "\n",
        "idx = 1\n",
        "for i in cnt:\n",
        "    if i==max(cnt):\n",
        "        print(idx, end=\" \")\n",
        "    idx += 1\n",
        "\n"
      ],
      "metadata": {
        "colab": {
          "base_uri": "https://localhost:8080/"
        },
        "id": "boZALAwRn1sm",
        "outputId": "cc507409-2c3c-4028-de60-1262a9a25426"
      },
      "execution_count": null,
      "outputs": [
        {
          "output_type": "stream",
          "name": "stdout",
          "text": [
            "5 4\n",
            "3 1\n",
            "3 2\n",
            "4 3\n",
            "5 3\n",
            "[[], [3], [3], [4, 5], [], []]\n",
            "1  값 나와 왜!! \n",
            "[1]\n",
            "배열 [3]\n",
            "3 배열 [4, 5]\n",
            "4 배열 [4, 5]\n",
            "5 끝\n",
            "2  값 나와 왜!! \n",
            "[2]\n",
            "배열 [3]\n",
            "3 배열 [4, 5]\n",
            "4 배열 [4, 5]\n",
            "5 끝\n",
            "3  값 나와 왜!! \n",
            "[3]\n",
            "배열 [4, 5]\n",
            "4 배열 [4, 5]\n",
            "5 끝\n",
            "4  값 나와 왜!! \n",
            "[4]\n",
            "끝\n",
            "5  값 나와 왜!! \n",
            "[5]\n",
            "끝\n",
            "1 2 "
          ]
        }
      ]
    },
    {
      "cell_type": "code",
      "source": [],
      "metadata": {
        "colab": {
          "base_uri": "https://localhost:8080/"
        },
        "id": "_9lGRmUSNBRR",
        "outputId": "406bc451-d680-472f-889e-026daa4c3206"
      },
      "execution_count": 38,
      "outputs": [
        {
          "output_type": "stream",
          "name": "stdout",
          "text": [
            "6 8\n",
            "2\n"
          ]
        }
      ]
    },
    {
      "cell_type": "code",
      "source": [
        "#케빈쓰 베이컨 6단계 미디엄 살짝 오버쿡 웰던 전  굽기 법칙\n",
        "# https://www.acmicpc.net/problem/1389\n",
        "n,m=map(int,input().split())\n",
        "arr = [[] for _ in range(n+1)]\n",
        "for i in range(m):\n",
        "  a,b=map(int,input().split())\n",
        "  arr[a].append(b)\n",
        "  arr[b].append(a)\n",
        "\n",
        "que =deque()\n",
        "result=100000\n",
        "answer=0\n",
        "for i in range(1,n+1):\n",
        "  visited=[0] * (n+1)\n",
        "  cnt=0\n",
        "  que.append((i,cnt))\n",
        "  while que:\n",
        "    x,cnt=que.popleft()\n",
        "    for j in arr[x]:\n",
        "      if i!=j and visited[j]==0:\n",
        "        visited[j] =cnt+1\n",
        "        que.append((j,cnt+1))\n",
        "  if result >sum(visited):\n",
        "    result=sum(visited)\n",
        "    answer=i\n",
        "\n",
        "print(answer)\n"
      ],
      "metadata": {
        "id": "hVKE4HXjZSk0",
        "colab": {
          "base_uri": "https://localhost:8080/"
        },
        "outputId": "27b3cfa1-f293-47dc-e67d-0cd3b7c2b6ee"
      },
      "execution_count": 54,
      "outputs": [
        {
          "output_type": "stream",
          "name": "stdout",
          "text": [
            "5 5\n",
            "1 3\n",
            "1 4\n",
            "4 5\n",
            "4 3\n",
            "3 2\n",
            "[0, 0, 0, 1, 1, 0]\n",
            "[0, 0, 2, 1, 1, 0]\n",
            "[0, 0, 2, 1, 1, 2]\n",
            "[0, 0, 2, 1, 1, 2]\n",
            "[0, 0, 2, 1, 1, 2]\n",
            "끝!!!\n",
            "[0, 0, 0, 1, 0, 0]\n",
            "[0, 2, 0, 1, 2, 0]\n",
            "[0, 2, 0, 1, 2, 0]\n",
            "[0, 2, 0, 1, 2, 3]\n",
            "[0, 2, 0, 1, 2, 3]\n",
            "끝!!!\n",
            "[0, 1, 1, 0, 1, 0]\n",
            "[0, 1, 1, 0, 1, 0]\n",
            "[0, 1, 1, 0, 1, 2]\n",
            "[0, 1, 1, 0, 1, 2]\n",
            "[0, 1, 1, 0, 1, 2]\n",
            "끝!!!\n",
            "[0, 1, 0, 1, 0, 1]\n",
            "[0, 1, 0, 1, 0, 1]\n",
            "[0, 1, 0, 1, 0, 1]\n",
            "[0, 1, 2, 1, 0, 1]\n",
            "[0, 1, 2, 1, 0, 1]\n",
            "끝!!!\n",
            "[0, 0, 0, 0, 1, 0]\n",
            "[0, 2, 0, 2, 1, 0]\n",
            "[0, 2, 0, 2, 1, 0]\n",
            "[0, 2, 3, 2, 1, 0]\n",
            "[0, 2, 3, 2, 1, 0]\n",
            "끝!!!\n",
            "3\n"
          ]
        }
      ]
    },
    {
      "cell_type": "code",
      "source": [
        "#백준 로봇청소기\n",
        "# https://www.acmicpc.net/problem/14503\n",
        "from collections import deque\n",
        "n,m=map(int,input().split())\n",
        "r,c,d=map(int,input().split())\n",
        "\n",
        "# 북 동 남 서\n",
        "dx=[-1,0,1,0]\n",
        "dy=[0,1,0,-1]\n",
        "# 90도는 -1 하면 되는데 180도는 +2 해야함\n",
        "# 북 0 동 1 남 2 서 3\n",
        "arr=[]\n",
        "\n",
        "for i in range(n):\n",
        "  arr.append(list(map(int,input().split())))\n",
        "\n",
        "cnt=0\n",
        "if arr[r][c]==0:\n",
        "  arr[r][c]=2\n",
        "  cnt=1\n",
        "\n",
        "\n",
        "while True:\n",
        "  check=False\n",
        "  for i in range(4):\n",
        "    if d==0:\n",
        "      d=3\n",
        "    else:\n",
        "      d-=1\n",
        "    nx=r+dx[d]\n",
        "    ny=c+dy[d]\n",
        "    if 0<=nx <n and 0<=ny <m and arr[nx][ny]==0:\n",
        "      arr[nx][ny]=2\n",
        "      cnt+=1\n",
        "      r,c=nx,ny\n",
        "      check=True\n",
        "      break\n",
        "  if check:\n",
        "    continue\n",
        "\n",
        "  # if d==0 or d==1:\n",
        "  #     d+=2\n",
        "  # else:\n",
        "  #     d-=2\n",
        "  # 이렇게 하면 회전 방향이 꼬여서 절대 노 그냥 후진만\n",
        "  tmp=d\n",
        "  if tmp==0 or tmp==1:\n",
        "    tmp+=2\n",
        "  else:\n",
        "    tmp-=2\n",
        "  nextX=r+dx[tmp]\n",
        "  nextY=c+dy[tmp]\n",
        "  if 0 <= nextX < n and 0 <= nextY < m and arr[nextX][nextY] !=1:\n",
        "      r,c=nextX,nextY\n",
        "  else:\n",
        "      break\n",
        "\n",
        "print(cnt)\n",
        "\n"
      ],
      "metadata": {
        "colab": {
          "base_uri": "https://localhost:8080/"
        },
        "id": "bIphuELmdtvb",
        "outputId": "4fdcbc35-7181-4b52-b2b1-69c5ee494ea3"
      },
      "execution_count": 23,
      "outputs": [
        {
          "output_type": "stream",
          "name": "stdout",
          "text": [
            "3 3\n",
            "1 1 0\n",
            "1 1 1\n",
            "1 0 1\n",
            "1 1 1\n",
            "1\n"
          ]
        }
      ]
    },
    {
      "cell_type": "code",
      "source": [],
      "metadata": {
        "id": "gmu0NGTafmz_"
      },
      "execution_count": null,
      "outputs": []
    }
  ]
}