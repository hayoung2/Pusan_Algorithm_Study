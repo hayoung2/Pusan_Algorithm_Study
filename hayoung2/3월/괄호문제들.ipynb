{
  "cells": [
    {
      "cell_type": "code",
      "execution_count": null,
      "metadata": {
        "colab": {
          "background_save": true,
          "base_uri": "https://localhost:8080/"
        },
        "id": "j5CADG-lstLJ",
        "outputId": "6920844c-9a45-4527-84de-81b4ed7931fa"
      },
      "outputs": [
        {
          "name": "stdout",
          "output_type": "stream",
          "text": [
            "NO\n",
            "NO\n",
            "NO\n",
            "YES\n",
            "NO\n"
          ]
        }
      ],
      "source": [
        "# 9012 괄호\n",
        "n=int(input())\n",
        "\n",
        "arr=[]\n",
        "for i in range(n):\n",
        "  s=list(input())\n",
        "  stack=[]\n",
        "  for i in s :\n",
        "    if i=='(':\n",
        "      stack.append(i)\n",
        "    else:\n",
        "      if len(stack)!=0:\n",
        "        last = stack.pop(-1)\n",
        "        if last!=\"(\":\n",
        "          print(\"NO\")\n",
        "          break\n",
        "      else:\n",
        "        print(\"NO\")\n",
        "        break\n",
        "  else:\n",
        "    if len(stack)!=0:\n",
        "      print(\"NO\")\n",
        "    else:\n",
        "      print(\"YES\")"
      ]
    },
    {
      "cell_type": "code",
      "execution_count": null,
      "metadata": {
        "id": "5sTr-zpTzV1q"
      },
      "outputs": [],
      "source": [
        "#짝지어제거하기 프로그래머스\n",
        "def solution(s):\n",
        "    answer = 0\n",
        "    stack=[]\n",
        "    for i in range(len(s)):\n",
        "        if stack:\n",
        "            if stack[-1] ==s[i]:\n",
        "                stack.pop(-1)\n",
        "            else:\n",
        "                stack.append(s[i])\n",
        "        else:\n",
        "            stack.append(s[i])\n",
        "\n",
        "    if len(stack)==0:\n",
        "        answer=1\n",
        "\n",
        "    return answer"
      ]
    },
    {
      "cell_type": "code",
      "execution_count": 35,
      "metadata": {
        "id": "AODDS5YIvSPh",
        "colab": {
          "base_uri": "https://localhost:8080/"
        },
        "outputId": "a7bfc9bf-f303-48f3-ddc5-110e0d839e53"
      },
      "outputs": [
        {
          "output_type": "stream",
          "name": "stdout",
          "text": [
            "abacabcc\n",
            "abc\n",
            "abacc\n"
          ]
        }
      ],
      "source": [
        "#문자열 폭발 백준 골드 4 음하핳하ㅏ\n",
        "s=input()\n",
        "bang=input()\n",
        "tmp=len(bang)\n",
        "stack=[]\n",
        "\n",
        "for i in range(len(s)):\n",
        "  check=len(stack)\n",
        "  if check>=tmp:\n",
        "    if stack[check-tmp+1:] + [s[i]] == list(bang):\n",
        "      for i in range(tmp-1):\n",
        "        stack.pop(-1)\n",
        "\n",
        "    else:\n",
        "      stack.append(s[i])\n",
        "  else:\n",
        "    stack.append(s[i])\n",
        "\n",
        "\n",
        "check=len(stack)\n",
        "if check >=tmp:\n",
        "  if stack[check-tmp:check]==list(bang):\n",
        "    for i in range(tmp):\n",
        "      stack.pop(-1)\n",
        "\n",
        "word= ''.join(stack)\n",
        "if bang in word:\n",
        "  for i in range(0,len(stack)-tmp):\n",
        "    if stack[i:i+tmp] == list(bang):\n",
        "      stack = stack[0:i] + stack[i+tmp:]\n",
        "      break\n",
        "\n",
        "if stack ==[]:\n",
        "  print(\"FRULA\")\n",
        "else:\n",
        "  print(''.join(stack))"
      ]
    },
    {
      "cell_type": "markdown",
      "source": [],
      "metadata": {
        "id": "kc4_aTDD46aA"
      }
    },
    {
      "cell_type": "code",
      "source": [
        "# 오큰수\n",
        "n=int(input())\n",
        "arr=list(map(int,input().split()))\n",
        "stack=[]\n",
        "for i in range(n):\n",
        "  stack.append(arr[i])\n",
        "  while stack and\n",
        "\n",
        "\n",
        "answer.append(-1)\n",
        "\n",
        "for i in range(n-1,-1,-1):\n",
        "    print(answer[i],end=\" \")"
      ],
      "metadata": {
        "colab": {
          "base_uri": "https://localhost:8080/",
          "height": 356
        },
        "id": "4Xx4wB0U1bSX",
        "outputId": "a8d3a574-1b98-41d9-9c7f-c4b5806964d8"
      },
      "execution_count": 62,
      "outputs": [
        {
          "output_type": "error",
          "ename": "KeyboardInterrupt",
          "evalue": "Interrupted by user",
          "traceback": [
            "\u001b[0;31m---------------------------------------------------------------------------\u001b[0m",
            "\u001b[0;31mKeyboardInterrupt\u001b[0m                         Traceback (most recent call last)",
            "\u001b[0;32m<ipython-input-62-476b6ca45640>\u001b[0m in \u001b[0;36m<cell line: 0>\u001b[0;34m()\u001b[0m\n\u001b[1;32m      1\u001b[0m \u001b[0;31m# 오큰수\u001b[0m\u001b[0;34m\u001b[0m\u001b[0;34m\u001b[0m\u001b[0m\n\u001b[0;32m----> 2\u001b[0;31m \u001b[0mn\u001b[0m\u001b[0;34m=\u001b[0m\u001b[0mint\u001b[0m\u001b[0;34m(\u001b[0m\u001b[0minput\u001b[0m\u001b[0;34m(\u001b[0m\u001b[0;34m)\u001b[0m\u001b[0;34m)\u001b[0m\u001b[0;34m\u001b[0m\u001b[0;34m\u001b[0m\u001b[0m\n\u001b[0m\u001b[1;32m      3\u001b[0m \u001b[0marr\u001b[0m\u001b[0;34m=\u001b[0m\u001b[0mlist\u001b[0m\u001b[0;34m(\u001b[0m\u001b[0mmap\u001b[0m\u001b[0;34m(\u001b[0m\u001b[0mint\u001b[0m\u001b[0;34m,\u001b[0m\u001b[0minput\u001b[0m\u001b[0;34m(\u001b[0m\u001b[0;34m)\u001b[0m\u001b[0;34m.\u001b[0m\u001b[0msplit\u001b[0m\u001b[0;34m(\u001b[0m\u001b[0;34m)\u001b[0m\u001b[0;34m)\u001b[0m\u001b[0;34m)\u001b[0m\u001b[0;34m\u001b[0m\u001b[0;34m\u001b[0m\u001b[0m\n\u001b[1;32m      4\u001b[0m \u001b[0marr\u001b[0m\u001b[0;34m.\u001b[0m\u001b[0mreverse\u001b[0m\u001b[0;34m(\u001b[0m\u001b[0;34m)\u001b[0m\u001b[0;34m\u001b[0m\u001b[0;34m\u001b[0m\u001b[0m\n\u001b[1;32m      5\u001b[0m \u001b[0max\u001b[0m\u001b[0;34m=\u001b[0m\u001b[0marr\u001b[0m\u001b[0;34m\u001b[0m\u001b[0;34m\u001b[0m\u001b[0m\n",
            "\u001b[0;32m/usr/local/lib/python3.11/dist-packages/ipykernel/kernelbase.py\u001b[0m in \u001b[0;36mraw_input\u001b[0;34m(self, prompt)\u001b[0m\n\u001b[1;32m   1175\u001b[0m                 \u001b[0;34m\"raw_input was called, but this frontend does not support input requests.\"\u001b[0m\u001b[0;34m\u001b[0m\u001b[0;34m\u001b[0m\u001b[0m\n\u001b[1;32m   1176\u001b[0m             )\n\u001b[0;32m-> 1177\u001b[0;31m         return self._input_request(\n\u001b[0m\u001b[1;32m   1178\u001b[0m             \u001b[0mstr\u001b[0m\u001b[0;34m(\u001b[0m\u001b[0mprompt\u001b[0m\u001b[0;34m)\u001b[0m\u001b[0;34m,\u001b[0m\u001b[0;34m\u001b[0m\u001b[0;34m\u001b[0m\u001b[0m\n\u001b[1;32m   1179\u001b[0m             \u001b[0mself\u001b[0m\u001b[0;34m.\u001b[0m\u001b[0m_parent_ident\u001b[0m\u001b[0;34m[\u001b[0m\u001b[0;34m\"shell\"\u001b[0m\u001b[0;34m]\u001b[0m\u001b[0;34m,\u001b[0m\u001b[0;34m\u001b[0m\u001b[0;34m\u001b[0m\u001b[0m\n",
            "\u001b[0;32m/usr/local/lib/python3.11/dist-packages/ipykernel/kernelbase.py\u001b[0m in \u001b[0;36m_input_request\u001b[0;34m(self, prompt, ident, parent, password)\u001b[0m\n\u001b[1;32m   1217\u001b[0m             \u001b[0;32mexcept\u001b[0m \u001b[0mKeyboardInterrupt\u001b[0m\u001b[0;34m:\u001b[0m\u001b[0;34m\u001b[0m\u001b[0;34m\u001b[0m\u001b[0m\n\u001b[1;32m   1218\u001b[0m                 \u001b[0;31m# re-raise KeyboardInterrupt, to truncate traceback\u001b[0m\u001b[0;34m\u001b[0m\u001b[0;34m\u001b[0m\u001b[0m\n\u001b[0;32m-> 1219\u001b[0;31m                 \u001b[0;32mraise\u001b[0m \u001b[0mKeyboardInterrupt\u001b[0m\u001b[0;34m(\u001b[0m\u001b[0;34m\"Interrupted by user\"\u001b[0m\u001b[0;34m)\u001b[0m \u001b[0;32mfrom\u001b[0m \u001b[0;32mNone\u001b[0m\u001b[0;34m\u001b[0m\u001b[0;34m\u001b[0m\u001b[0m\n\u001b[0m\u001b[1;32m   1220\u001b[0m             \u001b[0;32mexcept\u001b[0m \u001b[0mException\u001b[0m\u001b[0;34m:\u001b[0m\u001b[0;34m\u001b[0m\u001b[0;34m\u001b[0m\u001b[0m\n\u001b[1;32m   1221\u001b[0m                 \u001b[0mself\u001b[0m\u001b[0;34m.\u001b[0m\u001b[0mlog\u001b[0m\u001b[0;34m.\u001b[0m\u001b[0mwarning\u001b[0m\u001b[0;34m(\u001b[0m\u001b[0;34m\"Invalid Message:\"\u001b[0m\u001b[0;34m,\u001b[0m \u001b[0mexc_info\u001b[0m\u001b[0;34m=\u001b[0m\u001b[0;32mTrue\u001b[0m\u001b[0;34m)\u001b[0m\u001b[0;34m\u001b[0m\u001b[0;34m\u001b[0m\u001b[0m\n",
            "\u001b[0;31mKeyboardInterrupt\u001b[0m: Interrupted by user"
          ]
        }
      ]
    },
    {
      "cell_type": "code",
      "source": [
        "#균형잡힌 세상\n",
        "while True :\n",
        "  s=input()\n",
        "  if len(s)==1 and s==\".\":\n",
        "    break\n",
        "  stack=[]\n",
        "  check=False\n",
        "  for i in s:\n",
        "    if len(stack)==0 and (i==\"]\" or i==\")\"):\n",
        "      print(\"no\")\n",
        "      break\n",
        "    if i==\"(\" or i==\"[\":\n",
        "      stack.append(i)\n",
        "    elif i==\")\":\n",
        "      if stack.pop() !=\"(\":\n",
        "        print(\"no\")\n",
        "        break\n",
        "    elif i==\"]\":\n",
        "      if stack.pop() !=\"[\":\n",
        "        print(\"no\")\n",
        "        break\n",
        "  else:\n",
        "    if len(stack)==0:\n",
        "      check=True\n",
        "    else:\n",
        "      print(\"no\")\n",
        "\n",
        "  if check:\n",
        "    print(\"yes\")\n",
        "\n",
        "# 맞음 백준 맞음\n",
        "\n",
        "\n",
        "\n"
      ],
      "metadata": {
        "colab": {
          "base_uri": "https://localhost:8080/",
          "height": 425
        },
        "id": "6Clh18TKIfkR",
        "outputId": "716dab9d-8654-4740-c1f7-7738143a3f3a"
      },
      "execution_count": 6,
      "outputs": [
        {
          "output_type": "stream",
          "name": "stdout",
          "text": [
            "[([]]).\n",
            "no\n",
            "((((.\n",
            "no\n"
          ]
        },
        {
          "output_type": "error",
          "ename": "KeyboardInterrupt",
          "evalue": "Interrupted by user",
          "traceback": [
            "\u001b[0;31m---------------------------------------------------------------------------\u001b[0m",
            "\u001b[0;31mKeyboardInterrupt\u001b[0m                         Traceback (most recent call last)",
            "\u001b[0;32m<ipython-input-6-d3fe18d85cc5>\u001b[0m in \u001b[0;36m<cell line: 0>\u001b[0;34m()\u001b[0m\n\u001b[1;32m      1\u001b[0m \u001b[0;31m#균형잡힌 세상\u001b[0m\u001b[0;34m\u001b[0m\u001b[0;34m\u001b[0m\u001b[0m\n\u001b[1;32m      2\u001b[0m \u001b[0;32mwhile\u001b[0m \u001b[0;32mTrue\u001b[0m \u001b[0;34m:\u001b[0m\u001b[0;34m\u001b[0m\u001b[0;34m\u001b[0m\u001b[0m\n\u001b[0;32m----> 3\u001b[0;31m   \u001b[0ms\u001b[0m\u001b[0;34m=\u001b[0m\u001b[0minput\u001b[0m\u001b[0;34m(\u001b[0m\u001b[0;34m)\u001b[0m\u001b[0;34m\u001b[0m\u001b[0;34m\u001b[0m\u001b[0m\n\u001b[0m\u001b[1;32m      4\u001b[0m   \u001b[0;32mif\u001b[0m \u001b[0mlen\u001b[0m\u001b[0;34m(\u001b[0m\u001b[0ms\u001b[0m\u001b[0;34m)\u001b[0m\u001b[0;34m==\u001b[0m\u001b[0;36m1\u001b[0m \u001b[0;32mand\u001b[0m \u001b[0ms\u001b[0m\u001b[0;34m==\u001b[0m\u001b[0;34m\".\"\u001b[0m\u001b[0;34m:\u001b[0m\u001b[0;34m\u001b[0m\u001b[0;34m\u001b[0m\u001b[0m\n\u001b[1;32m      5\u001b[0m     \u001b[0;32mbreak\u001b[0m\u001b[0;34m\u001b[0m\u001b[0;34m\u001b[0m\u001b[0m\n",
            "\u001b[0;32m/usr/local/lib/python3.11/dist-packages/ipykernel/kernelbase.py\u001b[0m in \u001b[0;36mraw_input\u001b[0;34m(self, prompt)\u001b[0m\n\u001b[1;32m   1175\u001b[0m                 \u001b[0;34m\"raw_input was called, but this frontend does not support input requests.\"\u001b[0m\u001b[0;34m\u001b[0m\u001b[0;34m\u001b[0m\u001b[0m\n\u001b[1;32m   1176\u001b[0m             )\n\u001b[0;32m-> 1177\u001b[0;31m         return self._input_request(\n\u001b[0m\u001b[1;32m   1178\u001b[0m             \u001b[0mstr\u001b[0m\u001b[0;34m(\u001b[0m\u001b[0mprompt\u001b[0m\u001b[0;34m)\u001b[0m\u001b[0;34m,\u001b[0m\u001b[0;34m\u001b[0m\u001b[0;34m\u001b[0m\u001b[0m\n\u001b[1;32m   1179\u001b[0m             \u001b[0mself\u001b[0m\u001b[0;34m.\u001b[0m\u001b[0m_parent_ident\u001b[0m\u001b[0;34m[\u001b[0m\u001b[0;34m\"shell\"\u001b[0m\u001b[0;34m]\u001b[0m\u001b[0;34m,\u001b[0m\u001b[0;34m\u001b[0m\u001b[0;34m\u001b[0m\u001b[0m\n",
            "\u001b[0;32m/usr/local/lib/python3.11/dist-packages/ipykernel/kernelbase.py\u001b[0m in \u001b[0;36m_input_request\u001b[0;34m(self, prompt, ident, parent, password)\u001b[0m\n\u001b[1;32m   1217\u001b[0m             \u001b[0;32mexcept\u001b[0m \u001b[0mKeyboardInterrupt\u001b[0m\u001b[0;34m:\u001b[0m\u001b[0;34m\u001b[0m\u001b[0;34m\u001b[0m\u001b[0m\n\u001b[1;32m   1218\u001b[0m                 \u001b[0;31m# re-raise KeyboardInterrupt, to truncate traceback\u001b[0m\u001b[0;34m\u001b[0m\u001b[0;34m\u001b[0m\u001b[0m\n\u001b[0;32m-> 1219\u001b[0;31m                 \u001b[0;32mraise\u001b[0m \u001b[0mKeyboardInterrupt\u001b[0m\u001b[0;34m(\u001b[0m\u001b[0;34m\"Interrupted by user\"\u001b[0m\u001b[0;34m)\u001b[0m \u001b[0;32mfrom\u001b[0m \u001b[0;32mNone\u001b[0m\u001b[0;34m\u001b[0m\u001b[0;34m\u001b[0m\u001b[0m\n\u001b[0m\u001b[1;32m   1220\u001b[0m             \u001b[0;32mexcept\u001b[0m \u001b[0mException\u001b[0m\u001b[0;34m:\u001b[0m\u001b[0;34m\u001b[0m\u001b[0;34m\u001b[0m\u001b[0m\n\u001b[1;32m   1221\u001b[0m                 \u001b[0mself\u001b[0m\u001b[0;34m.\u001b[0m\u001b[0mlog\u001b[0m\u001b[0;34m.\u001b[0m\u001b[0mwarning\u001b[0m\u001b[0;34m(\u001b[0m\u001b[0;34m\"Invalid Message:\"\u001b[0m\u001b[0;34m,\u001b[0m \u001b[0mexc_info\u001b[0m\u001b[0;34m=\u001b[0m\u001b[0;32mTrue\u001b[0m\u001b[0;34m)\u001b[0m\u001b[0;34m\u001b[0m\u001b[0;34m\u001b[0m\u001b[0m\n",
            "\u001b[0;31mKeyboardInterrupt\u001b[0m: Interrupted by user"
          ]
        }
      ]
    },
    {
      "cell_type": "code",
      "source": [
        "# 카카오 오픈채팅방\n",
        "def solution(record):\n",
        "    name={}\n",
        "    answer=[]\n",
        "    check=[]\n",
        "    for i in record:\n",
        "        arr=i.split(\" \")\n",
        "        if i[0]==\"E\":\n",
        "            name[arr[1]]=arr[2]\n",
        "            check.append(\"e \"+str(arr[1]))\n",
        "        elif i[0]==\"L\":\n",
        "            check.append(\"l \"+str(arr[1]))\n",
        "            # del name[arr[1]]\n",
        "            # 이거 있으면 런타임 에러나오는데 없으면 안나옴 내 생각에 그냥 나가는 경우도 있는듯 삭제안하고 그냥 다시 안들어오고\n",
        "        else:\n",
        "            name[arr[1]]=arr[2]\n",
        "\n",
        "    for i in check:\n",
        "        tmp=i.split(\" \")\n",
        "        if tmp[0]==\"e\":\n",
        "            answer.append(str(name[tmp[1]]) + \"님이 들어왔습니다.\")\n",
        "        else:\n",
        "            answer.append(str(name[tmp[1]]) + \"님이 나갔습니다.\")\n",
        "\n",
        "    return answer"
      ],
      "metadata": {
        "id": "lOz0JVPhN7MI"
      },
      "execution_count": 7,
      "outputs": []
    },
    {
      "cell_type": "code",
      "source": [
        "# 괄호의 값\n"
      ],
      "metadata": {
        "id": "_40RvfAwWn-N"
      },
      "execution_count": 7,
      "outputs": []
    }
  ],
  "metadata": {
    "colab": {
      "provenance": []
    },
    "kernelspec": {
      "display_name": "Python 3",
      "name": "python3"
    },
    "language_info": {
      "name": "python"
    }
  },
  "nbformat": 4,
  "nbformat_minor": 0
}